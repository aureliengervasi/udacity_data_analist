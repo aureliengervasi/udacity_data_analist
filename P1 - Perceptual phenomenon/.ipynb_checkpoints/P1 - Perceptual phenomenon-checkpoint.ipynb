{
 "cells": [
  {
   "cell_type": "markdown",
   "metadata": {},
   "source": [
    "# P1 - Perceptual phenomenon\n",
    "\n",
    "## Background Information\n",
    "\n",
    "In a Stroop task, participants are presented with a list of words, with each word displayed in a color of ink. The participant’s task is to say out loud the color of the ink in which the word is printed. The task has two conditions: a congruent words condition, and an incongruent words condition. In the congruent words condition, the words being displayed are color words whose names match the colors in which they are printed: for example RED, BLUE. In the incongruent words condition, the words displayed are color words whose names do not match the colors in which they are printed: for example PURPLE, ORANGE. In each case, we measure the time it takes to name the ink colors in equally-sized lists. Each participant will go through and record a time from each condition."
   ]
  },
  {
   "cell_type": "code",
   "execution_count": 2,
   "metadata": {
    "collapsed": false
   },
   "outputs": [],
   "source": [
    "import pandas as pd\n",
    "#import matplotlib.pyplot as plt\n",
    "import numpy as np\n",
    "from scipy.stats import t\n",
    "\n",
    "data_path = \"data/test_results.csv\"\n",
    "\n",
    "df = pd.read_csv(data_path, sep=';')\n",
    "df['Difference'] = df.Congruent - df.Incongruent\n",
    "\n",
    "cond1 = df.Congruent.values\n",
    "cond2 = df.Incongruent.values\n",
    "diff = df.Difference.values\n",
    "\n",
    "# Probability density function of normal distribution\n",
    "def norm_pdf(x, mu, sigma):\n",
    "    return np.exp(-((x-mu)/sigma)**2/2)/(sigma*np.sqrt(2*np.pi))"
   ]
  },
  {
   "cell_type": "markdown",
   "metadata": {},
   "source": [
    "## Questions For Investigation\n",
    "\n",
    "As a general note, be sure to keep a record of any resources that you use or refer to in the creation of your project. You will need to report your sources as part of the project submission.\n"
   ]
  },
  {
   "cell_type": "markdown",
   "metadata": {},
   "source": [
    "### 1. What is our independent variable? What is our dependent variable?\n",
    "\n",
    "Our independent variable is the **word condition**: either congruent or incongruent. \n",
    "\n",
    "Our dependent variable is the **time it takes to name the ink colors in seconds**. "
   ]
  },
  {
   "cell_type": "markdown",
   "metadata": {},
   "source": [
    "### 2. What is an appropriate set of hypotheses for this task? What kind of statistical test do you expect to perform? Justify your choices.\n",
    "\n",
    "H0 : Null hypothesis ==> **the incongruent condition does not increase the average time needed to read the list of words**, i.e. the average recorded time for incongruent words is equal or lower than for congruent words.\n",
    "\n",
    "H1 : Alternative hypothesis ==> **the incongruent condition does increase the average time needed to read the list of words**, i.e. the average recorded time for incongruent words is higher than for congruent words.\n",
    "\n",
    "As the same person is trying the two different word condition in a row, we are working with **dependent samples**. As we want to evaluate the difference between these two word conditions (and we do not know the mean&standard deviation for the entire population), we are going to follow a **one sample t-test** with the recorded time difference between the two test conditions.\n",
    "\n",
    "According to the definition of our null hypothesis, we are focusing on a **one-tailed test in the negative direction**. "
   ]
  },
  {
   "cell_type": "markdown",
   "metadata": {},
   "source": [
    "### 3. Report some descriptive statistics regarding this dataset. Include at least one measure of central tendency and at least one measure of variability.\n",
    "\n",
    "In order to have a first look at the data, let's check the main indicators (mean, standard deviation, minimum, maximum and quartiles) for the two sets of samples."
   ]
  },
  {
   "cell_type": "code",
   "execution_count": 3,
   "metadata": {
    "collapsed": false,
    "scrolled": false
   },
   "outputs": [
    {
     "name": "stdout",
     "output_type": "stream",
     "text": [
      "       Congruent  Incongruent  Difference\n",
      "count  24.000000    24.000000   24.000000\n",
      "mean   14.051125    22.015917   -7.964792\n",
      "std     3.559358     4.797057    4.864827\n",
      "min     8.630000    15.687000  -21.919000\n",
      "25%    11.895250    18.716750  -10.258500\n",
      "50%    14.356500    21.017500   -7.666500\n",
      "75%    16.200750    24.051500   -3.645500\n",
      "max    22.328000    35.255000   -1.950000\n"
     ]
    }
   ],
   "source": [
    "print(df.describe())\n"
   ]
  },
  {
   "cell_type": "markdown",
   "metadata": {},
   "source": [
    "We can observe that the means are fairly different between the two conditions. The congruent test samples show a lower mean that the incongruent test samples, which does not go in the direction of our null hypothesis. \n",
    "\n",
    "We can also observe that the mean and the median are close, which is a good sign (but definitely not sufficient) if we want to approximate our variable distribution by a gaussian law, or a t-distribution. \n",
    "\n"
   ]
  },
  {
   "cell_type": "markdown",
   "metadata": {},
   "source": [
    "### 4. Provide one or two visualizations that show the distribution of the sample data. Write one or two sentences noting what you observe about the plot or plots.\n",
    "\n",
    "Through the following lines of code, we will see the frequency histograms for the 2 word conditions.\n",
    "\n",
    "Out of curiosity, I also plotted the normed histogram with a fitted normal probability density function. \n"
   ]
  },
  {
   "cell_type": "code",
   "execution_count": 150,
   "metadata": {
    "collapsed": false,
    "scrolled": false
   },
   "outputs": [
    {
     "data": {
      "image/png": "[encoded data removed]",
      "text/plain": [
       "<matplotlib.figure.Figure at 0x89f08b1f98>"
      ]
     },
     "metadata": {},
     "output_type": "display_data"
    }
   ],
   "source": [
    "%matplotlib inline  \n",
    "\n",
    "range_x = (0, 1.1*np.max([cond1.max(), cond2.max()]))\n",
    "\n",
    "# Frequency histograms\n",
    "plt.subplot(2,2,1)\n",
    "plt.hist(cond1, bins = 20, range = range_x, normed=False)\n",
    "plt.title(\"Congruent\")\n",
    "plt.ylabel(\"Frequency\")\n",
    "\n",
    "plt.subplot(2,2,2)\n",
    "plt.hist(cond2, bins = 20, range = range_x, normed=False)\n",
    "plt.title(\"Incongruent\")\n",
    "\n",
    "# Normed histograms\n",
    "plt.subplot(2,2,3)\n",
    "_, bins, _ = plt.hist(cond1, bins = 20, range = range_x, normed=True)\n",
    "y1 = norm_pdf(bins, np.mean(cond1), np.std(cond1, ddof = 1))\n",
    "plt.plot(bins, y1, 'r--', linewidth=2)\n",
    "plt.xlabel(\"Test duration in s\")\n",
    "plt.ylabel(\"Probability density\")\n",
    "\n",
    "plt.subplot(2,2,4)\n",
    "_, bins, _ = plt.hist(cond2, bins = 20, range = range_x, normed=True)\n",
    "y2 = norm_pdf(bins, np.mean(cond2), np.std(cond2, ddof = 1))\n",
    "plt.plot(bins, y2, 'r--', linewidth=2)\n",
    "plt.xlabel(\"Test duration in s\")\n",
    "\n",
    "plt.show()"
   ]
  },
  {
   "cell_type": "code",
   "execution_count": 166,
   "metadata": {
    "collapsed": false
   },
   "outputs": [
    {
     "data": {
      "image/png": "[encoded data removed]",
      "text/plain": [
       "<matplotlib.figure.Figure at 0x89f508c2e8>"
      ]
     },
     "metadata": {},
     "output_type": "display_data"
    }
   ],
   "source": [
    "plt.hist(diff, bins = 20, normed=False)\n",
    "plt.title(\"Time difference between the conditions\")\n",
    "plt.ylabel(\"Frequency\")\n",
    "plt.xlabel(\"time difference in s\")\n",
    "\n",
    "plt.show()"
   ]
  },
  {
   "cell_type": "markdown",
   "metadata": {},
   "source": [
    "It appears that the incongruent test sample is more inclined generally to **higher test duration** than the congruent. \n",
    "\n",
    "We can also observe that the 2 distributions seem to follow a **normal distribution law**, which could have been expected thanks to the **central limit theorem**. Though, as the overall data is quite low (24 candidates per condition), and we do not know the population mean and standard deviation, the fitting is not perfect. \n",
    "\n",
    "By looking at the mean differences distribution, we can observe that **they are all negative**, which lead us to think that the alternative hypothesis has a high chance to be validated.\n"
   ]
  },
  {
   "cell_type": "markdown",
   "metadata": {},
   "source": [
    "### 5. Now, perform the statistical test and report your results. What is your confidence level and your critical statistic value? Do you reject the null hypothesis or fail to reject it? Come to a conclusion in terms of the experiment task. Did the results match up with your expectations?\n",
    "\n",
    "\n",
    "Cohen's d = mean diff / s\n",
    "\n",
    "r² = t²/(t²+df)\n",
    "\n",
    "\n"
   ]
  },
  {
   "cell_type": "code",
   "execution_count": 156,
   "metadata": {
    "collapsed": false
   },
   "outputs": [
    {
     "name": "stdout",
     "output_type": "stream",
     "text": [
      "Degrees of freedom = 23\n",
      "t-critical for a one-sided test in the negative direction with 0.05 alpha level: -1.714\n",
      "t-critical for a one-sided test in the negative direction with 0.01 alpha level: -2.500\n",
      "t-critical for a one-sided test in the negative direction with 0.00 alpha level: -3.485\n",
      "\n",
      "Samples standard deviation = 4.865\n",
      "Standard error of the mean = 0.993\n",
      "t-statistic = -8.021\n"
     ]
    }
   ],
   "source": [
    "# Degrees of freedom\n",
    "n = len(diff)\n",
    "df = n - 1\n",
    "\n",
    "# t-critical for one-tailed test in the negative direction for different alpha values \n",
    "alpha = [0.05,0.01, 0.001]\n",
    "t_crit = [-t.ppf(1-a, df) for a in alpha]\n",
    "print('Degrees of freedom = {0}'.format(df))\n",
    "for _ in range(len(alpha)):\n",
    "    print ('t-critical for a one-sided test in the negative direction with {0:.2f} alpha level: {1:.3f}'.format(alpha[_], t_crit[_]))\n",
    "\n",
    "# Mean difference\n",
    "mdif = np.mean(diff)\n",
    "\n",
    "# t-statistic calculation\n",
    "s = np.std(diff, ddof = 1)\n",
    "sem = s/np.sqrt(n)\n",
    "t_stat = mdif/sem\n",
    "print('\\nSamples standard deviation = {0:.3f}'.format(s))\n",
    "print('Standard error of the mean = {0:.3f}'.format(sem))\n",
    "print('t-statistic = {0:.3f}'.format(t_stat))\n",
    "\n"
   ]
  },
  {
   "cell_type": "code",
   "execution_count": 157,
   "metadata": {
    "collapsed": false
   },
   "outputs": [
    {
     "data": {
      "image/png": "[encoded data removed]",
      "text/plain": [
       "<matplotlib.figure.Figure at 0x89f5383438>"
      ]
     },
     "metadata": {},
     "output_type": "display_data"
    }
   ],
   "source": [
    "x = np.linspace(-8,8, 100)\n",
    "opa = [.8, .5, .3] # different opacities for different alpha values\n",
    "\n",
    "plt.plot(x, t.pdf(x, df),'r-', lw=2, alpha=0.8, label='t distribution pdf')\n",
    "for i in range(len(t_crit)):\n",
    "    plt.axvline(x=t_crit[i], linewidth=2, color='r', alpha = opa[i], ls = '--', label='t crit, alpha = {0}'.format(alpha[i]))\n",
    "plt.axvline(x=t_stat, linewidth=2, color='b', ls = '--', label='t value')\n",
    "plt.xlabel(\"t-value\")\n",
    "plt.ylabel(\"Probability density\")\n",
    "plt.legend(bbox_to_anchor=(0., 1.02, 1., .102), loc=3,ncol=2, mode=\"expand\", borderaxespad=0.)\n",
    "\n",
    "plt.show()"
   ]
  },
  {
   "cell_type": "code",
   "execution_count": 163,
   "metadata": {
    "collapsed": false
   },
   "outputs": [
    {
     "name": "stdout",
     "output_type": "stream",
     "text": [
      "p-value: 0.000 %\n",
      "Lower limit = -11.706 with a 99.9% confidence interval\n",
      "Upper limit = -4.223 with a 99.9% confidence interval\n",
      "\n",
      "Cohen's d: -1.64\n",
      "r²: 0.74\n"
     ]
    }
   ],
   "source": [
    "# p-value\n",
    "p = t.cdf(t_stat, df)\n",
    "print('p-value: {0:.3f} %'.format(p*100))\n",
    "\n",
    "# Margin of error & upper and lower limit for difference between the 2 conditions\n",
    "marg_err = t.ppf(1-0.001/2, df)*sem\n",
    "low_lim = mdif - marg_err\n",
    "upp_lim = mdif + marg_err\n",
    "print('Lower limit = {0:.3f} with a 99.9% confidence interval'.format(low_lim))\n",
    "print('Upper limit = {0:.3f} with a 99.9% confidence interval\\n'.format(upp_lim))\n",
    "\n",
    "# Cohen's d \n",
    "d = mdif / s\n",
    "print('Cohen\\'s d: {0:.2f}'.format(d))\n",
    "\n",
    "# r²\n",
    "r_squ = t_stat**2/(t_stat**2 + df)\n",
    "print('r²: {0:.2f}'.format(r_squ))"
   ]
  },
  {
   "cell_type": "markdown",
   "metadata": {},
   "source": [
    "We can conclude that according to this t-test, **we can reject the Null hypothesis**. Our t-value is lower than the t-critical value with an **alpha level of 0.001**. Our results are statistically significant.\n",
    "\n",
    "The average recorded time for congruent words **is lower than** for incongruent words and we can estimate this difference **between 4.2s and 11.7s with a 99.9% confidence interval**.\n",
    "\n",
    "Our Cohen's d coefficient is equal to -1.64, which is very high. Last but not least, the r² coefficient tells us that, for 24 samples we tested, **the word condition is responsible for 74% of the difference** between the 2 recorded times."
   ]
  },
  {
   "cell_type": "markdown",
   "metadata": {},
   "source": [
    "### 6. Optional: What do you think is responsible for the effects observed? Can you think of an alternative or similar task that would result in a similar effect? Some research about the problem will be helpful for thinking about these two questions\n",
    "\n",
    "For the incongruent condition, our brain has to deal with two different inputs (word and color) that are contradictory. My opinion is that, as our brain is more used to read words than to recognize color, the processing speed needed to read the word is lower than to recognize the word color. Hence, it tends to choose first the input from the word, which it has to correct afterwards.\n",
    "\n",
    "One experiment that could be interesting to conduct to explore this hypothesis would be to do this test with children that do not have a strong reading background. It would be interesting to see whether the average time difference is still so high between the two conditions, or it is reduced.\n",
    "\n",
    "Another suggestion would be to redo this test with adults, but in this case, ask to read the word instead of naming the color. If our hypothesis is right, there should not be a significant difference between the two conditions. \n",
    "\n",
    "If we are looking for a similar effect, we could think of comparing digits from different sizes. For the congruent condition: the bigger the digit, the bigger its size. For the incongruent condition, the size digit is randomly chosen.  "
   ]
  }
 ],
 "metadata": {
  "kernelspec": {
   "display_name": "Python 3",
   "language": "python",
   "name": "python3"
  },
  "language_info": {
   "codemirror_mode": {
    "name": "ipython",
    "version": 3
   },
   "file_extension": ".py",
   "mimetype": "text/x-python",
   "name": "python",
   "nbconvert_exporter": "python",
   "pygments_lexer": "ipython3",
   "version": "3.5.1"
  }
 },
 "nbformat": 4,
 "nbformat_minor": 0
}
