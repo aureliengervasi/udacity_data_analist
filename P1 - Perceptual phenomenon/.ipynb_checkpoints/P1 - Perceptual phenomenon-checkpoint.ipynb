{
 "cells": [
  {
   "cell_type": "markdown",
   "metadata": {},
   "source": [
    "# P1 - Perceptual phenomenon\n",
    "\n",
    "## Background Information\n",
    "\n",
    "In a Stroop task, participants are presented with a list of words, with each word displayed in a color of ink. The participant’s task is to say out loud the color of the ink in which the word is printed. The task has two conditions: a congruent words condition, and an incongruent words condition. In the congruent words condition, the words being displayed are color words whose names match the colors in which they are printed: for example RED, BLUE. In the incongruent words condition, the words displayed are color words whose names do not match the colors in which they are printed: for example PURPLE, ORANGE. In each case, we measure the time it takes to name the ink colors in equally-sized lists. Each participant will go through and record a time from each condition."
   ]
  },
  {
   "cell_type": "code",
   "execution_count": 9,
   "metadata": {
    "collapsed": false
   },
   "outputs": [],
   "source": [
    "import pandas as pd\n",
    "import matplotlib.pyplot as plt\n",
    "import numpy as np\n",
    "\n",
    "data_path = \"data/test_results.csv\"\n",
    "\n",
    "df = pd.read_csv(data_path, sep=';')\n",
    "\n",
    "t1 = df.Congruent.values\n",
    "t2 = df.Incongruent.values\n",
    "\n",
    "def norm_pdf(x, mu, sigma):\n",
    "    return np.exp(-((x-mu)/sigma)**2/2)/(sigma*np.sqrt(2*np.pi))"
   ]
  },
  {
   "cell_type": "markdown",
   "metadata": {},
   "source": [
    "## Questions For Investigation\n",
    "\n",
    "As a general note, be sure to keep a record of any resources that you use or refer to in the creation of your project. You will need to report your sources as part of the project submission.\n"
   ]
  },
  {
   "cell_type": "markdown",
   "metadata": {},
   "source": [
    "### 1. What is our independent variable? What is our dependent variable?\n",
    "\n",
    "Our independent variable is the **word condition**: either congruent or incongruent. \n",
    "\n",
    "Our dependent variable is the **time it takes to name the ink colors in seconds**. "
   ]
  },
  {
   "cell_type": "markdown",
   "metadata": {},
   "source": [
    "### 2. What is an appropriate set of hypotheses for this task? What kind of statistical test do you expect to perform? Justify your choices.\n",
    "\n",
    "H0 : Null hypothesis ==> **the incongruent condition does not increase the average time needed to read the list of words**, i.e. the average recorded time for incongruent words is equal or lower than for congruent words.\n",
    "\n",
    "H1 : Reject de null ==> **the incongruent condition does increase the average time needed to read the list of words**, i.e. the average recorded time for incongruent words is higher than for congruent words.\n",
    "\n",
    "As the same person is trying the two different word condition in a row, we are working with **dependent samples**. As we want to evaluate the difference bewteen the mean of these two population sample (and we do not know the mean&standard deviation for the entire population), we are going to follow a **two samples t-test**. \n",
    "\n",
    "According to the definition of our null hypothesis, we are focusing on a **one-tailed test**. "
   ]
  },
  {
   "cell_type": "markdown",
   "metadata": {},
   "source": [
    "### 3. Report some descriptive statistics regarding this dataset. Include at least one measure of central tendency and at least one measure of variability.\n",
    "\n",
    "In order to have a first look at the data, let's check the main indicators (mean, standard deviation, minimum, maximum and quartiles) for the two setsof samples."
   ]
  },
  {
   "cell_type": "code",
   "execution_count": 40,
   "metadata": {
    "collapsed": false,
    "scrolled": true
   },
   "outputs": [
    {
     "name": "stdout",
     "output_type": "stream",
     "text": [
      "       Congruent  Incongruent\n",
      "count  24.000000    24.000000\n",
      "mean   14.051125    22.015917\n",
      "std     3.559358     4.797057\n",
      "min     8.630000    15.687000\n",
      "25%    11.895250    18.716750\n",
      "50%    14.356500    21.017500\n",
      "75%    16.200750    24.051500\n",
      "max    22.328000    35.255000\n"
     ]
    }
   ],
   "source": [
    "print(df.describe())\n"
   ]
  },
  {
   "cell_type": "markdown",
   "metadata": {},
   "source": [
    "We can observe that the means are fairly different, while the standard deviations (with Bessel's correction) remain close. The congruent test sample shows a lower mean that the incongruent test sample, which does not go in the direction of our null hypothesis. \n",
    "\n",
    "We can also observe that the mean and the median are close, which is a good sign (but definitely not sufficient) if we want to use approximate or variable distribution by a gaussian law. \n",
    "\n"
   ]
  },
  {
   "cell_type": "markdown",
   "metadata": {},
   "source": [
    "### 4. Provide one or two visualizations that show the distribution of the sample data. Write one or two sentences noting what you observe about the plot or plots.\n",
    "\n",
    "Through the following lines of code, we will see the frequency histograms for the 2 test samples.\n",
    "\n",
    "Out of curiosity, I also plotted the normed histogram with a fitted normal probability density function. \n"
   ]
  },
  {
   "cell_type": "code",
   "execution_count": 41,
   "metadata": {
    "collapsed": false,
    "scrolled": true
   },
   "outputs": [
    {
     "data": {
      "image/png": "[encoded data removed]",
      "text/plain": [
       "<matplotlib.figure.Figure at 0x9e78332cf8>"
      ]
     },
     "metadata": {},
     "output_type": "display_data"
    }
   ],
   "source": [
    "%matplotlib inline  \n",
    "\n",
    "range_x = (0, 1.1*np.max([t1.max(), t2.max()]))\n",
    "\n",
    "# Frequency histograms\n",
    "plt.subplot(2,2,1)\n",
    "plt.hist(t1, bins = 20, range = range_x, normed=False)\n",
    "plt.title(\"Congruent\")\n",
    "plt.ylabel(\"Frequency\")\n",
    "\n",
    "plt.subplot(2,2,2)\n",
    "plt.hist(t2, bins = 20, range = range_x, normed=False)\n",
    "plt.title(\"Incongruent\")\n",
    "\n",
    "# Normed histograms\n",
    "plt.subplot(2,2,3)\n",
    "_, bins, _ = plt.hist(t1, bins = 20, range = range_x, normed=True)\n",
    "y1 = norm_pdf(bins, np.mean(t1), np.std(t1, ddof = 1))\n",
    "plt.plot(bins, y1, 'r--', linewidth=2)\n",
    "plt.xlabel(\"Test duration in s\")\n",
    "plt.ylabel(\"Probability density\")\n",
    "\n",
    "plt.subplot(2,2,4)\n",
    "_, bins, _ = plt.hist(t2, bins = 20, range = range_x, normed=True)\n",
    "y1 = norm_pdf(bins, np.mean(t2), np.std(t2, ddof = 1))\n",
    "plt.plot(bins, y2, 'r--', linewidth=2)\n",
    "plt.xlabel(\"Test duration in s\")\n",
    "\n",
    "plt.show()"
   ]
  },
  {
   "cell_type": "markdown",
   "metadata": {},
   "source": [
    "It appears that the incongruent test sample is more inclined generally to **higher test duration** than the Congruent. \n",
    "\n",
    "We can also observe that the 2 distributions seem to follow a **normal distribution law**, which could have been expected thanks to the **central limit theorem**. Though, as the overall data is quite low (24 candidates per condition), the fitting is not perfect. \n"
   ]
  },
  {
   "cell_type": "markdown",
   "metadata": {},
   "source": [
    "### 5. Now, perform the statistical test and report your results. What is your confidence level and your critical statistic value? Do you reject the null hypothesis or fail to reject it? Come to a conclusion in terms of the experiment task. Did the results match up with your expectations?\n"
   ]
  },
  {
   "cell_type": "markdown",
   "metadata": {},
   "source": [
    "### 6. Optional: What do you think is responsible for the effects observed? Can you think of an alternative or similar task that would result in a similar effect? Some research about the problem will be helpful for thinking about these two questions"
   ]
  },
  {
   "cell_type": "code",
   "execution_count": null,
   "metadata": {
    "collapsed": false
   },
   "outputs": [],
   "source": [
    "\n",
    "\n",
    "\n"
   ]
  }
 ],
 "metadata": {
  "kernelspec": {
   "display_name": "Python 3",
   "language": "python",
   "name": "python3"
  },
  "language_info": {
   "codemirror_mode": {
    "name": "ipython",
    "version": 3
   },
   "file_extension": ".py",
   "mimetype": "text/x-python",
   "name": "python",
   "nbconvert_exporter": "python",
   "pygments_lexer": "ipython3",
   "version": "3.5.1"
  }
 },
 "nbformat": 4,
 "nbformat_minor": 0
}
